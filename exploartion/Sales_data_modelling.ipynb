{
  "nbformat": 4,
  "nbformat_minor": 0,
  "metadata": {
    "colab": {
      "name": "Sales_data_modelling.ipynb",
      "provenance": []
    },
    "kernelspec": {
      "name": "python3",
      "display_name": "Python 3"
    },
    "language_info": {
      "name": "python"
    }
  },
  "cells": [
    {
      "cell_type": "code",
      "metadata": {
        "id": "fcO68JK4zcj7"
      },
      "source": [
        "import baseline_models"
      ],
      "execution_count": 66,
      "outputs": []
    },
    {
      "cell_type": "code",
      "metadata": {
        "id": "a2Y9xSNXtsop"
      },
      "source": [
        "from google.colab import files\n",
        "\n",
        "\n",
        "import numpy as np\n",
        "import pandas as pd\n",
        "import datetime\n",
        "import sklearn\n",
        "from sklearn import linear_model\n",
        "from sklearn.metrics import *\n",
        "\n",
        "\n",
        "import seaborn as sns\n",
        "import itertools\n",
        "from sklearn.model_selection import TimeSeriesSplit\n",
        "\n",
        "from matplotlib import pyplot as plt\n",
        "from sklearn import preprocessing"
      ],
      "execution_count": 6,
      "outputs": []
    },
    {
      "cell_type": "code",
      "metadata": {
        "id": "7SAVqItktyvY"
      },
      "source": [
        "def wmape(y_true, y_pred):\n",
        "  errors = y_true - y_pred\n",
        "  wmape_val = 100*np.round(np.sum(abs(errors))/np.sum(y_true),6)\n",
        "  return (wmape_val, errors)"
      ],
      "execution_count": 7,
      "outputs": []
    },
    {
      "cell_type": "code",
      "metadata": {
        "id": "qnhb72Zht0QE"
      },
      "source": [
        "def extend_to_right_boundary(df, max_time):\n",
        "  df_tmp = df.reset_index(level = 0, drop = True).sort_index(ascending=True)\n",
        "  min_left = min(df.index)[1]\n",
        "  extended_time = pd.date_range(start = min_left, end = max_time, freq ='W-Mon')\n",
        "  df_tmp = df_tmp.reindex(extended_time, fill_value = 0.0)\n",
        "  df_tmp.index.name = \"DateTime\"\n",
        "  #print((df.index.get_level_values(level = 0).unique(), extended_time))\n",
        "\n",
        "  # this does not work\n",
        "  # weekly_sales.loc[[3129],:].reindex(index = multiindex.at[3129], level = \"DateTime\", fill_value = 0.0)\n",
        "\n",
        "  return df_tmp"
      ],
      "execution_count": 8,
      "outputs": []
    },
    {
      "cell_type": "code",
      "metadata": {
        "id": "Q4TGXxE2t1z7"
      },
      "source": [
        "def prepare_sales_data(sales_df, categories_df, traffic_df, extend_to_common_horizon = False, extend_only_to_max_date = False, shift_list = [None]):\n",
        "  sales_df_copy = sales_df.copy()\n",
        "  sales_df_copy['DateTime'] = sales_df_copy['week_starting_date'].apply(lambda x: pd.to_datetime(str(x), format='%Y%m%d'))\n",
        "  weekly_sales = sales_df_copy.groupby([\"product_id\", \"DateTime\"], as_index=True).agg({'sales':'sum'}) # czy to jest potrzebne?\n",
        "\n",
        "  if extend_to_common_horizon:\n",
        "    if extend_only_to_max_date:\n",
        "      max_time_value = max(weekly_sales.index.get_level_values(level = 1))\n",
        "      expanded_full = weekly_sales.groupby(level=0).apply(lambda x: extend_to_right_boundary(x, max_time_value))\n",
        "    else:\n",
        "      t1 = weekly_sales.index.get_level_values(level = 0).unique()\n",
        "      t2 = weekly_sales.index.get_level_values(level = 1).unique()\n",
        "      new_index = list(itertools.product(t1, t2))\n",
        "      expanded_full = weekly_sales.reindex(pd.MultiIndex.from_tuples(new_index, names=['product_id', 'DateTime']), fill_value=0)\n",
        "  else:\n",
        "    expanded_full = weekly_sales.groupby(level=0).apply(lambda x: x.reset_index(level=0, drop=True).asfreq(\"W-Mon\", fill_value = 0.0))\n",
        "    #expanded_full = weekly_sales.groupby(level=0).apply(lambda x: x.reset_index(level=0, drop=True).asfreq(\"W-Mon\").fillna(0))\n",
        "  \n",
        "  \n",
        "\n",
        "  full_sales_dataset = expanded_full\\\n",
        "  .merge(categories_df, left_index=True, right_index = True,  how = 'left')\\\n",
        "  .merge(traffic_df, left_index = True,  right_index = True, how = 'left')\n",
        "\n",
        "  full_sales_dataset[\"Date\"] = full_sales_dataset.index.get_level_values(level = 1)\n",
        "  \n",
        "  # adding columns based on start time\n",
        "  full_sales_dataset['Week_numb'] = full_sales_dataset['Date'].apply(lambda x: int(x.strftime(\"%V\")))\n",
        "  full_sales_dataset['YW'] = full_sales_dataset['Date'].apply(lambda x: int(x.strftime(\"%Y%V\")))\n",
        "  full_sales_dataset['Month'] = full_sales_dataset['Date'].apply(lambda x: int(x.month))\n",
        "\n",
        "  if shift_list[0] is not None:\n",
        "    for i in shift_list:\n",
        "      # do this but within groups, otherwise there is a bug\n",
        "      full_sales_dataset[[f\"sales_lag_{i}W\", f\"traffic_lag_{i}W\"]] = full_sales_dataset.groupby(level = 0)[['sales', 'traffic']].shift(i, fill_value = 0.0)\n",
        "\n",
        "  #full_sales_dataset[\"sales_to_traffic\"] = full_sales_dataset.sales/full_sales_dataset.traffic\n",
        "  \n",
        "  full_sales_dataset.drop(\"Date\", axis = 1, inplace = True)\n",
        "\n",
        "\n",
        "  return full_sales_dataset\n"
      ],
      "execution_count": 67,
      "outputs": []
    },
    {
      "cell_type": "code",
      "metadata": {
        "id": "eXhPfRbvswRQ"
      },
      "source": [
        ""
      ],
      "execution_count": null,
      "outputs": []
    },
    {
      "cell_type": "code",
      "metadata": {
        "id": "0aUaHsSlt3vG"
      },
      "source": [
        "def get_naive_forecast(ts_series, horizon, time_freq = \"W-MON\"):\n",
        "  ts_time_index = ts_series.index\n",
        "  ts_values = ts_series.values\n",
        "\n",
        "  prediction = ts_values[-1]\n",
        "  last_time_obs = ts_time_index[-1]\n",
        "\n",
        "  #prediciton_time_vector = pd.date_range(last_time_obs, periods=3, freq=time_freq)\n",
        "  horizon_for_loop = horizon + 1\n",
        "  prediciton_time_vector = pd.Index([last_time_obs + pd.offsets.DateOffset(weeks=i) for i in range(1,horizon_for_loop,1)],  freq = \"W-MON\")\n",
        "\n",
        "  prediction_vector = np.repeat(a = prediction, repeats = horizon)\n",
        "  prediction_series = pd.Series(prediction_vector, index =prediciton_time_vector)\n",
        "\n",
        "  return prediction_series"
      ],
      "execution_count": 10,
      "outputs": []
    },
    {
      "cell_type": "markdown",
      "metadata": {
        "id": "tdj4bHetsiWW"
      },
      "source": [
        "### Baseline models"
      ]
    },
    {
      "cell_type": "code",
      "metadata": {
        "id": "akX-MYhKshP0"
      },
      "source": [
        "# # my first custom estimator! :)\n",
        "# # https://towardsdatascience.com/writing-your-own-scikit-learn-classes-for-beginners-1e4e7d4de203\n",
        "# # https://scikit-learn.org/stable/developers/develop.html\n",
        "\n",
        "# from sklearn.base import BaseEstimator, TransformerMixin, RegressorMixin\n",
        "# from sklearn.utils.validation import check_X_y, check_array, check_is_fitted\n",
        "\n",
        "# class NaiveForecast(BaseEstimator, TransformerMixin, RegressorMixin):\n",
        "#   def __init__(self, horizon, time_freq = \"W-MON\", **model_hyper_parameters):\n",
        "#     super().__init__()\n",
        "#     self.horizon = horizon\n",
        "#     self.time_freq = time_freq\n",
        "\n",
        "#   def fit(self, X, y = None):\n",
        "#     ts_time_index = X.index\n",
        "#     ts_values = X.values\n",
        "\n",
        "#     self.prediction_ = ts_values[-1]\n",
        "#     self.last_time_obs_ = ts_time_index[-1]\n",
        "#     return self\n",
        "    \n",
        "#   def predict(self, X, y=None):\n",
        "#     # make sure that it was fitted\n",
        "#     check_is_fitted(self)\n",
        "#     #X = check_array(X) ????\n",
        "#     horizon_for_loop = self.horizon + 1\n",
        "#     prediciton_time_vector = pd.Index([self.last_time_obs_  + pd.offsets.DateOffset(weeks=i) for i in range(1,horizon_for_loop,1)],  freq = self.time_freq)\n",
        "\n",
        "#     prediction_vector = np.repeat(a = self.prediction_, repeats = self.horizon)\n",
        "#     X = X.copy()\n",
        "#     X = pd.Series(prediction_vector, index =prediciton_time_vector)\n",
        "#     return X"
      ],
      "execution_count": null,
      "outputs": []
    },
    {
      "cell_type": "code",
      "metadata": {
        "id": "Vss5HQvasnzK"
      },
      "source": [
        "# # my first custom estimator! :)\n",
        "# # https://towardsdatascience.com/writing-your-own-scikit-learn-classes-for-beginners-1e4e7d4de203\n",
        "# # https://scikit-learn.org/stable/developers/develop.html\n",
        "\n",
        "# from sklearn.base import BaseEstimator, TransformerMixin, RegressorMixin\n",
        "# from sklearn.utils.validation import check_X_y, check_array, check_is_fitted\n",
        "\n",
        "# class MeanForecast(BaseEstimator, TransformerMixin, RegressorMixin):\n",
        "#   def __init__(self, horizon, time_freq = \"W-MON\", **model_hyper_parameters):\n",
        "#     super().__init__()\n",
        "#     self.horizon = horizon\n",
        "#     self.time_freq = time_freq\n",
        "\n",
        "#   def fit(self, X, y = None):\n",
        "#     ts_time_index = X.index\n",
        "#     ts_values = X.values\n",
        "\n",
        "#     self.prediction_ = np.mean(ts_values)\n",
        "#     self.last_time_obs_ = ts_time_index[-1]\n",
        "#     return self\n",
        "    \n",
        "#   def predict(self, X, y=None):\n",
        "#     # make sure that it was fitted\n",
        "#     check_is_fitted(self)\n",
        "#     #X = check_array(X) ????\n",
        "#     horizon_for_loop = self.horizon + 1\n",
        "#     prediciton_time_vector = pd.Index([self.last_time_obs_  + pd.offsets.DateOffset(weeks=i) for i in range(1,horizon_for_loop,1)],  freq = self.time_freq)\n",
        "\n",
        "#     prediction_vector = np.repeat(a = self.prediction_, repeats = self.horizon)\n",
        "#     X = X.copy()\n",
        "#     X = pd.Series(prediction_vector, index =prediciton_time_vector)\n",
        "#     return X"
      ],
      "execution_count": null,
      "outputs": []
    },
    {
      "cell_type": "code",
      "metadata": {
        "id": "-hnEyIt5snp9"
      },
      "source": [
        ""
      ],
      "execution_count": null,
      "outputs": []
    },
    {
      "cell_type": "code",
      "metadata": {
        "id": "8A5oGGNit6Ao"
      },
      "source": [
        "sales_data = pd.read_csv(\"sales.csv\",   header = 0, sep = \";\")\n",
        "categories = pd.read_csv(\"categories.csv\",   header = 0, sep = \";\")\n",
        "traffic = pd.read_csv(\"traffic.csv\",   header = 0, sep = \";\")"
      ],
      "execution_count": 11,
      "outputs": []
    },
    {
      "cell_type": "code",
      "metadata": {
        "id": "DIZblEh2t8wb"
      },
      "source": [
        "traffic['DateTime'] = traffic['week_starting_date'].apply(lambda x: pd.to_datetime(str(x), format='%Y%m%d'))\n",
        "traffic.drop(\"week_starting_date\", axis = 1, inplace = True)\n",
        "\n",
        "traffic = traffic.set_index([\"product_id\", \"DateTime\"])\n",
        "categories = categories.set_index([\"product_id\"])"
      ],
      "execution_count": 12,
      "outputs": []
    },
    {
      "cell_type": "code",
      "metadata": {
        "id": "IexyEZbQt-Xr"
      },
      "source": [
        "# extended only to global max date horizon\n",
        "# check nulls here because looks strange\n",
        "sales_df_combined_right = prepare_sales_data(sales_data, categories, traffic, True, True, [1,2,3])"
      ],
      "execution_count": 13,
      "outputs": []
    },
    {
      "cell_type": "code",
      "metadata": {
        "id": "zfoZ4DF7uCbn"
      },
      "source": [
        "sample = sales_df_combined_right.loc[[2658, 1308]]"
      ],
      "execution_count": 14,
      "outputs": []
    },
    {
      "cell_type": "code",
      "metadata": {
        "id": "DGt8f27sxPyu"
      },
      "source": [
        "#!pip install scikit-learn==0.24.0"
      ],
      "execution_count": 15,
      "outputs": []
    },
    {
      "cell_type": "code",
      "metadata": {
        "id": "c-0JN6QjuE1j"
      },
      "source": [
        "tscv = TimeSeriesSplit(n_splits=10, test_size = 3)"
      ],
      "execution_count": null,
      "outputs": []
    },
    {
      "cell_type": "code",
      "metadata": {
        "id": "j6WzKVatuH0c"
      },
      "source": [
        "# score = []\n",
        "# for tr_index, val_index in tscv.split(sample.loc[2658]):\n",
        "#   print (tr_index, val_index)\n",
        "#   X_tr, X_val = sample.loc[2658][[\"sales\"]].iloc[tr_index], sample.loc[2658][[\"sales\"]].iloc[val_index]\n",
        "#   print(X_tr)\n",
        "#   print(X_val)\n",
        "#   forecast = NaiveForecast(X_tr.sales, horizon = 3)\n",
        "#   print(forecast)\n",
        "#   print(wmape(X_val.sales, forecast))"
      ],
      "execution_count": null,
      "outputs": []
    },
    {
      "cell_type": "code",
      "metadata": {
        "id": "9h1JD5hkzkrQ"
      },
      "source": [
        "all_items = sales_df_combined_right.index.get_level_values(level = 0).unique().tolist()"
      ],
      "execution_count": 16,
      "outputs": []
    },
    {
      "cell_type": "code",
      "metadata": {
        "id": "gAhCMdjb1G7j"
      },
      "source": [
        "tmp_dataset = sales_df_combined_right.loc[all_items[27]]"
      ],
      "execution_count": 17,
      "outputs": []
    },
    {
      "cell_type": "code",
      "metadata": {
        "id": "YPN74yk_uJTa"
      },
      "source": [
        "# for i in all_items:\n",
        "#   print(\"*******************\")\n",
        "#   print(i)\n",
        "#   tmp_dataset = sales_df_combined_right.loc[i]\n",
        "#   #n_splits_tmp = int(np.floor((tmp_dataset.shape[0] - 3)/2))\n",
        "#   try:\n",
        "#     tscv = TimeSeriesSplit(n_splits=5, test_size = 3)\n",
        "#     for tr_index, val_index in tscv.split(tmp_dataset):\n",
        "#       print (tr_index, val_index)\n",
        "#       X_tr, X_val = tmp_dataset[[\"sales\"]].iloc[tr_index], tmp_dataset[[\"sales\"]].iloc[val_index]\n",
        "#       print(X_tr)\n",
        "#       print(X_val)\n",
        "#       forecast = get_naive_forecast(X_tr.sales, horizon = 3)\n",
        "#       print(forecast)\n",
        "#       print(mean_absolute_percentage_error(X_val.sales, forecast))\n",
        "#   except Exception as e:\n",
        "#     print(e)"
      ],
      "execution_count": 18,
      "outputs": []
    },
    {
      "cell_type": "code",
      "metadata": {
        "colab": {
          "base_uri": "https://localhost:8080/"
        },
        "id": "cAoCfzk_uN_Q",
        "outputId": "82ce87fd-3d7b-41d9-b5eb-d8bc8ba4d145"
      },
      "source": [
        "mean_absolute_percentage_error(X_val.sales, get_naive_forecast(X_tr, horizon = 3))"
      ],
      "execution_count": null,
      "outputs": [
        {
          "output_type": "execute_result",
          "data": {
            "text/plain": [
              "12.564082594456428"
            ]
          },
          "metadata": {},
          "execution_count": 13
        }
      ]
    },
    {
      "cell_type": "code",
      "metadata": {
        "colab": {
          "base_uri": "https://localhost:8080/",
          "height": 441
        },
        "id": "MR-54E5II4uR",
        "outputId": "56687b93-987f-4ab3-bd6d-19a9abe9a4f5"
      },
      "source": [
        "lm = linear_model.LinearRegression()\n",
        "model = lm.fit(tmp_dataset.Week_numb,tmp_dataset.sales)"
      ],
      "execution_count": null,
      "outputs": [
        {
          "output_type": "error",
          "ename": "ValueError",
          "evalue": "ignored",
          "traceback": [
            "\u001b[0;31m---------------------------------------------------------------------------\u001b[0m",
            "\u001b[0;31mValueError\u001b[0m                                Traceback (most recent call last)",
            "\u001b[0;32m<ipython-input-61-748f5d1097fe>\u001b[0m in \u001b[0;36m<module>\u001b[0;34m()\u001b[0m\n\u001b[1;32m      1\u001b[0m \u001b[0mlm\u001b[0m \u001b[0;34m=\u001b[0m \u001b[0mlinear_model\u001b[0m\u001b[0;34m.\u001b[0m\u001b[0mLinearRegression\u001b[0m\u001b[0;34m(\u001b[0m\u001b[0;34m)\u001b[0m\u001b[0;34m\u001b[0m\u001b[0;34m\u001b[0m\u001b[0m\n\u001b[0;32m----> 2\u001b[0;31m \u001b[0mmodel\u001b[0m \u001b[0;34m=\u001b[0m \u001b[0mlm\u001b[0m\u001b[0;34m.\u001b[0m\u001b[0mfit\u001b[0m\u001b[0;34m(\u001b[0m\u001b[0mtmp_dataset\u001b[0m\u001b[0;34m.\u001b[0m\u001b[0mWeek_numb\u001b[0m\u001b[0;34m,\u001b[0m\u001b[0mtmp_dataset\u001b[0m\u001b[0;34m.\u001b[0m\u001b[0msales\u001b[0m\u001b[0;34m)\u001b[0m\u001b[0;34m\u001b[0m\u001b[0;34m\u001b[0m\u001b[0m\n\u001b[0m",
            "\u001b[0;32m/usr/local/lib/python3.7/dist-packages/sklearn/linear_model/_base.py\u001b[0m in \u001b[0;36mfit\u001b[0;34m(self, X, y, sample_weight)\u001b[0m\n\u001b[1;32m    517\u001b[0m \u001b[0;34m\u001b[0m\u001b[0m\n\u001b[1;32m    518\u001b[0m         X, y = self._validate_data(X, y, accept_sparse=accept_sparse,\n\u001b[0;32m--> 519\u001b[0;31m                                    y_numeric=True, multi_output=True)\n\u001b[0m\u001b[1;32m    520\u001b[0m \u001b[0;34m\u001b[0m\u001b[0m\n\u001b[1;32m    521\u001b[0m         \u001b[0;32mif\u001b[0m \u001b[0msample_weight\u001b[0m \u001b[0;32mis\u001b[0m \u001b[0;32mnot\u001b[0m \u001b[0;32mNone\u001b[0m\u001b[0;34m:\u001b[0m\u001b[0;34m\u001b[0m\u001b[0;34m\u001b[0m\u001b[0m\n",
            "\u001b[0;32m/usr/local/lib/python3.7/dist-packages/sklearn/base.py\u001b[0m in \u001b[0;36m_validate_data\u001b[0;34m(self, X, y, reset, validate_separately, **check_params)\u001b[0m\n\u001b[1;32m    431\u001b[0m                 \u001b[0my\u001b[0m \u001b[0;34m=\u001b[0m \u001b[0mcheck_array\u001b[0m\u001b[0;34m(\u001b[0m\u001b[0my\u001b[0m\u001b[0;34m,\u001b[0m \u001b[0;34m**\u001b[0m\u001b[0mcheck_y_params\u001b[0m\u001b[0;34m)\u001b[0m\u001b[0;34m\u001b[0m\u001b[0;34m\u001b[0m\u001b[0m\n\u001b[1;32m    432\u001b[0m             \u001b[0;32melse\u001b[0m\u001b[0;34m:\u001b[0m\u001b[0;34m\u001b[0m\u001b[0;34m\u001b[0m\u001b[0m\n\u001b[0;32m--> 433\u001b[0;31m                 \u001b[0mX\u001b[0m\u001b[0;34m,\u001b[0m \u001b[0my\u001b[0m \u001b[0;34m=\u001b[0m \u001b[0mcheck_X_y\u001b[0m\u001b[0;34m(\u001b[0m\u001b[0mX\u001b[0m\u001b[0;34m,\u001b[0m \u001b[0my\u001b[0m\u001b[0;34m,\u001b[0m \u001b[0;34m**\u001b[0m\u001b[0mcheck_params\u001b[0m\u001b[0;34m)\u001b[0m\u001b[0;34m\u001b[0m\u001b[0;34m\u001b[0m\u001b[0m\n\u001b[0m\u001b[1;32m    434\u001b[0m             \u001b[0mout\u001b[0m \u001b[0;34m=\u001b[0m \u001b[0mX\u001b[0m\u001b[0;34m,\u001b[0m \u001b[0my\u001b[0m\u001b[0;34m\u001b[0m\u001b[0;34m\u001b[0m\u001b[0m\n\u001b[1;32m    435\u001b[0m \u001b[0;34m\u001b[0m\u001b[0m\n",
            "\u001b[0;32m/usr/local/lib/python3.7/dist-packages/sklearn/utils/validation.py\u001b[0m in \u001b[0;36minner_f\u001b[0;34m(*args, **kwargs)\u001b[0m\n\u001b[1;32m     61\u001b[0m             \u001b[0mextra_args\u001b[0m \u001b[0;34m=\u001b[0m \u001b[0mlen\u001b[0m\u001b[0;34m(\u001b[0m\u001b[0margs\u001b[0m\u001b[0;34m)\u001b[0m \u001b[0;34m-\u001b[0m \u001b[0mlen\u001b[0m\u001b[0;34m(\u001b[0m\u001b[0mall_args\u001b[0m\u001b[0;34m)\u001b[0m\u001b[0;34m\u001b[0m\u001b[0;34m\u001b[0m\u001b[0m\n\u001b[1;32m     62\u001b[0m             \u001b[0;32mif\u001b[0m \u001b[0mextra_args\u001b[0m \u001b[0;34m<=\u001b[0m \u001b[0;36m0\u001b[0m\u001b[0;34m:\u001b[0m\u001b[0;34m\u001b[0m\u001b[0;34m\u001b[0m\u001b[0m\n\u001b[0;32m---> 63\u001b[0;31m                 \u001b[0;32mreturn\u001b[0m \u001b[0mf\u001b[0m\u001b[0;34m(\u001b[0m\u001b[0;34m*\u001b[0m\u001b[0margs\u001b[0m\u001b[0;34m,\u001b[0m \u001b[0;34m**\u001b[0m\u001b[0mkwargs\u001b[0m\u001b[0;34m)\u001b[0m\u001b[0;34m\u001b[0m\u001b[0;34m\u001b[0m\u001b[0m\n\u001b[0m\u001b[1;32m     64\u001b[0m \u001b[0;34m\u001b[0m\u001b[0m\n\u001b[1;32m     65\u001b[0m             \u001b[0;31m# extra_args > 0\u001b[0m\u001b[0;34m\u001b[0m\u001b[0;34m\u001b[0m\u001b[0;34m\u001b[0m\u001b[0m\n",
            "\u001b[0;32m/usr/local/lib/python3.7/dist-packages/sklearn/utils/validation.py\u001b[0m in \u001b[0;36mcheck_X_y\u001b[0;34m(X, y, accept_sparse, accept_large_sparse, dtype, order, copy, force_all_finite, ensure_2d, allow_nd, multi_output, ensure_min_samples, ensure_min_features, y_numeric, estimator)\u001b[0m\n\u001b[1;32m    819\u001b[0m                     \u001b[0mensure_min_samples\u001b[0m\u001b[0;34m=\u001b[0m\u001b[0mensure_min_samples\u001b[0m\u001b[0;34m,\u001b[0m\u001b[0;34m\u001b[0m\u001b[0;34m\u001b[0m\u001b[0m\n\u001b[1;32m    820\u001b[0m                     \u001b[0mensure_min_features\u001b[0m\u001b[0;34m=\u001b[0m\u001b[0mensure_min_features\u001b[0m\u001b[0;34m,\u001b[0m\u001b[0;34m\u001b[0m\u001b[0;34m\u001b[0m\u001b[0m\n\u001b[0;32m--> 821\u001b[0;31m                     estimator=estimator)\n\u001b[0m\u001b[1;32m    822\u001b[0m     \u001b[0;32mif\u001b[0m \u001b[0mmulti_output\u001b[0m\u001b[0;34m:\u001b[0m\u001b[0;34m\u001b[0m\u001b[0;34m\u001b[0m\u001b[0m\n\u001b[1;32m    823\u001b[0m         y = check_array(y, accept_sparse='csr', force_all_finite=True,\n",
            "\u001b[0;32m/usr/local/lib/python3.7/dist-packages/sklearn/utils/validation.py\u001b[0m in \u001b[0;36minner_f\u001b[0;34m(*args, **kwargs)\u001b[0m\n\u001b[1;32m     61\u001b[0m             \u001b[0mextra_args\u001b[0m \u001b[0;34m=\u001b[0m \u001b[0mlen\u001b[0m\u001b[0;34m(\u001b[0m\u001b[0margs\u001b[0m\u001b[0;34m)\u001b[0m \u001b[0;34m-\u001b[0m \u001b[0mlen\u001b[0m\u001b[0;34m(\u001b[0m\u001b[0mall_args\u001b[0m\u001b[0;34m)\u001b[0m\u001b[0;34m\u001b[0m\u001b[0;34m\u001b[0m\u001b[0m\n\u001b[1;32m     62\u001b[0m             \u001b[0;32mif\u001b[0m \u001b[0mextra_args\u001b[0m \u001b[0;34m<=\u001b[0m \u001b[0;36m0\u001b[0m\u001b[0;34m:\u001b[0m\u001b[0;34m\u001b[0m\u001b[0;34m\u001b[0m\u001b[0m\n\u001b[0;32m---> 63\u001b[0;31m                 \u001b[0;32mreturn\u001b[0m \u001b[0mf\u001b[0m\u001b[0;34m(\u001b[0m\u001b[0;34m*\u001b[0m\u001b[0margs\u001b[0m\u001b[0;34m,\u001b[0m \u001b[0;34m**\u001b[0m\u001b[0mkwargs\u001b[0m\u001b[0;34m)\u001b[0m\u001b[0;34m\u001b[0m\u001b[0;34m\u001b[0m\u001b[0m\n\u001b[0m\u001b[1;32m     64\u001b[0m \u001b[0;34m\u001b[0m\u001b[0m\n\u001b[1;32m     65\u001b[0m             \u001b[0;31m# extra_args > 0\u001b[0m\u001b[0;34m\u001b[0m\u001b[0;34m\u001b[0m\u001b[0;34m\u001b[0m\u001b[0m\n",
            "\u001b[0;32m/usr/local/lib/python3.7/dist-packages/sklearn/utils/validation.py\u001b[0m in \u001b[0;36mcheck_array\u001b[0;34m(array, accept_sparse, accept_large_sparse, dtype, order, copy, force_all_finite, ensure_2d, allow_nd, ensure_min_samples, ensure_min_features, estimator)\u001b[0m\n\u001b[1;32m    639\u001b[0m                     \u001b[0;34m\"Reshape your data either using array.reshape(-1, 1) if \"\u001b[0m\u001b[0;34m\u001b[0m\u001b[0;34m\u001b[0m\u001b[0m\n\u001b[1;32m    640\u001b[0m                     \u001b[0;34m\"your data has a single feature or array.reshape(1, -1) \"\u001b[0m\u001b[0;34m\u001b[0m\u001b[0;34m\u001b[0m\u001b[0m\n\u001b[0;32m--> 641\u001b[0;31m                     \"if it contains a single sample.\".format(array))\n\u001b[0m\u001b[1;32m    642\u001b[0m \u001b[0;34m\u001b[0m\u001b[0m\n\u001b[1;32m    643\u001b[0m         \u001b[0;31m# make sure we actually converted to numeric:\u001b[0m\u001b[0;34m\u001b[0m\u001b[0;34m\u001b[0m\u001b[0;34m\u001b[0m\u001b[0m\n",
            "\u001b[0;31mValueError\u001b[0m: Expected 2D array, got 1D array instead:\narray=[12 13 14 15 16 17 18 19 20 21 22 23 24 25 26 27 28 29 30 31 32 33 34 35\n 36 37 38 39 40 41 42 43 44 45 46 47 48 49 50 51 52  1  2  3  4  5  6  7\n  8  9 10 11 12 13 14 15 16 17 18 19 20 21 22 23 24 25 26 27 28 29 30 31\n 32 33 34 35 36 37 38 39 40 41 42 43 44 45 46 47 48 49 50 51 52 53].\nReshape your data either using array.reshape(-1, 1) if your data has a single feature or array.reshape(1, -1) if it contains a single sample."
          ]
        }
      ]
    },
    {
      "cell_type": "code",
      "metadata": {
        "colab": {
          "base_uri": "https://localhost:8080/"
        },
        "id": "J023awkdItTN",
        "outputId": "362b5314-d094-4855-9d13-d4ce00f913cb"
      },
      "source": [
        "tmp_dataset.Week_numb"
      ],
      "execution_count": null,
      "outputs": [
        {
          "output_type": "execute_result",
          "data": {
            "text/plain": [
              "DateTime\n",
              "2019-03-18    12\n",
              "2019-03-25    13\n",
              "2019-04-01    14\n",
              "2019-04-08    15\n",
              "2019-04-15    16\n",
              "              ..\n",
              "2020-11-30    49\n",
              "2020-12-07    50\n",
              "2020-12-14    51\n",
              "2020-12-21    52\n",
              "2020-12-28    53\n",
              "Name: Week_numb, Length: 94, dtype: int64"
            ]
          },
          "metadata": {},
          "execution_count": 60
        }
      ]
    },
    {
      "cell_type": "markdown",
      "metadata": {
        "id": "uq5x182PtlrY"
      },
      "source": [
        "## Linear regression try"
      ]
    },
    {
      "cell_type": "code",
      "metadata": {
        "id": "G7DzQOYg-zoi"
      },
      "source": [
        "from sklearn import linear_model"
      ],
      "execution_count": null,
      "outputs": []
    },
    {
      "cell_type": "code",
      "metadata": {
        "id": "2a7-NuMB-tPZ"
      },
      "source": [
        "lm = linear_model.LinearRegression()\n",
        "model = lm.fit(tmp_dataset[[\"Week_numb\"]].values,tmp_dataset[[\"sales\"]].values)\n",
        "\n",
        "#predictions = lm.predict(x)\n"
      ],
      "execution_count": null,
      "outputs": []
    },
    {
      "cell_type": "code",
      "metadata": {
        "colab": {
          "base_uri": "https://localhost:8080/"
        },
        "id": "jCGm7Pho_voZ",
        "outputId": "7e5e0540-bfb8-45e5-b837-bd5218f12d77"
      },
      "source": [
        "model"
      ],
      "execution_count": null,
      "outputs": [
        {
          "output_type": "execute_result",
          "data": {
            "text/plain": [
              "LinearRegression()"
            ]
          },
          "metadata": {},
          "execution_count": 54
        }
      ]
    },
    {
      "cell_type": "code",
      "metadata": {
        "colab": {
          "base_uri": "https://localhost:8080/"
        },
        "id": "74wWFU4w_Pu7",
        "outputId": "755c6cb7-bf6e-4323-f420-58e0226d3471"
      },
      "source": [
        "model.coef_"
      ],
      "execution_count": null,
      "outputs": [
        {
          "output_type": "execute_result",
          "data": {
            "text/plain": [
              "array([[1.2044772]])"
            ]
          },
          "metadata": {},
          "execution_count": 56
        }
      ]
    },
    {
      "cell_type": "code",
      "metadata": {
        "colab": {
          "base_uri": "https://localhost:8080/"
        },
        "id": "wTAcJPQL_0ab",
        "outputId": "2167fe28-cb7e-4a14-b254-64cca7e1a9ca"
      },
      "source": [
        "model.intercept_"
      ],
      "execution_count": null,
      "outputs": [
        {
          "output_type": "execute_result",
          "data": {
            "text/plain": [
              "array([15.80977716])"
            ]
          },
          "metadata": {},
          "execution_count": 57
        }
      ]
    },
    {
      "cell_type": "code",
      "metadata": {
        "id": "QMxyIofn_3tO"
      },
      "source": [
        ""
      ],
      "execution_count": 19,
      "outputs": []
    },
    {
      "cell_type": "code",
      "metadata": {
        "id": "yGVjRRmdrf6g"
      },
      "source": [
        ""
      ],
      "execution_count": 39,
      "outputs": []
    },
    {
      "cell_type": "code",
      "metadata": {
        "id": "Krcjz6EAMoNs"
      },
      "source": [
        "naive_model = NaiveForecast(horizon = 3, time_freq=\"W-MON\")"
      ],
      "execution_count": 45,
      "outputs": []
    },
    {
      "cell_type": "code",
      "metadata": {
        "id": "83wbTT9erpRS"
      },
      "source": [
        "mean_model = MeanForecast(horizon = 3, time_freq=\"W-MON\")"
      ],
      "execution_count": 40,
      "outputs": []
    },
    {
      "cell_type": "code",
      "metadata": {
        "id": "gdMookwJNKdG"
      },
      "source": [
        "abc = naive_model.fit(tmp_dataset.sales[:-3], tmp_dataset.sales[:-3])"
      ],
      "execution_count": 46,
      "outputs": []
    },
    {
      "cell_type": "code",
      "metadata": {
        "colab": {
          "base_uri": "https://localhost:8080/"
        },
        "id": "S6d4x-FSudoY",
        "outputId": "0573a59e-7e2f-4219-ca9a-60cce21a141a"
      },
      "source": [
        "naive_model.predict(tmp_dataset.sales[:-3])"
      ],
      "execution_count": 47,
      "outputs": [
        {
          "output_type": "execute_result",
          "data": {
            "text/plain": [
              "2020-12-14    124.0\n",
              "2020-12-21    124.0\n",
              "2020-12-28    124.0\n",
              "Freq: W-MON, dtype: float64"
            ]
          },
          "metadata": {},
          "execution_count": 47
        }
      ]
    },
    {
      "cell_type": "code",
      "metadata": {
        "id": "wkaPinM8_Ais"
      },
      "source": [
        "abc = naive_model.fit(tmp_dataset.sales, tmp_dataset.sales)"
      ],
      "execution_count": 22,
      "outputs": []
    },
    {
      "cell_type": "code",
      "metadata": {
        "id": "dyZS9h8WrsaI"
      },
      "source": [
        "mean_ = mean_model.fit(tmp_dataset.sales, tmp_dataset.sales)"
      ],
      "execution_count": 42,
      "outputs": []
    },
    {
      "cell_type": "code",
      "metadata": {
        "colab": {
          "base_uri": "https://localhost:8080/"
        },
        "id": "-13gyvT3_dU1",
        "outputId": "82e73053-e206-4370-a277-2f3ca46a18d2"
      },
      "source": [
        "tmp_dataset.sales"
      ],
      "execution_count": 23,
      "outputs": [
        {
          "output_type": "execute_result",
          "data": {
            "text/plain": [
              "DateTime\n",
              "2019-03-18      8.0\n",
              "2019-03-25      0.0\n",
              "2019-04-01     28.0\n",
              "2019-04-08    105.0\n",
              "2019-04-15     18.0\n",
              "              ...  \n",
              "2020-11-30    175.0\n",
              "2020-12-07    124.0\n",
              "2020-12-14    189.0\n",
              "2020-12-21     20.0\n",
              "2020-12-28      0.0\n",
              "Name: sales, Length: 94, dtype: float64"
            ]
          },
          "metadata": {},
          "execution_count": 23
        }
      ]
    },
    {
      "cell_type": "code",
      "metadata": {
        "colab": {
          "base_uri": "https://localhost:8080/"
        },
        "id": "B6VWT00p_au9",
        "outputId": "cde48fba-2848-4987-cc06-2812af9fc2a7"
      },
      "source": [
        "abc.prediction_"
      ],
      "execution_count": 24,
      "outputs": [
        {
          "output_type": "execute_result",
          "data": {
            "text/plain": [
              "0.0"
            ]
          },
          "metadata": {},
          "execution_count": 24
        }
      ]
    },
    {
      "cell_type": "code",
      "metadata": {
        "colab": {
          "base_uri": "https://localhost:8080/"
        },
        "id": "dXNOZdAb_Caw",
        "outputId": "06a2c32d-feb2-4624-ae27-f5f8ba6236c7"
      },
      "source": [
        "naive_model.predict(tmp_dataset.sales)"
      ],
      "execution_count": 25,
      "outputs": [
        {
          "output_type": "execute_result",
          "data": {
            "text/plain": [
              "2021-01-04    0.0\n",
              "2021-01-11    0.0\n",
              "2021-01-18    0.0\n",
              "Freq: W-MON, dtype: float64"
            ]
          },
          "metadata": {},
          "execution_count": 25
        }
      ]
    },
    {
      "cell_type": "code",
      "metadata": {
        "colab": {
          "base_uri": "https://localhost:8080/"
        },
        "id": "QDf-vsnZNeNE",
        "outputId": "31b6624c-48a7-45b5-ba64-b3ef574e857e"
      },
      "source": [
        "naive_model.predict(tmp_dataset.sales[-3:])"
      ],
      "execution_count": 26,
      "outputs": [
        {
          "output_type": "execute_result",
          "data": {
            "text/plain": [
              "2021-01-04    0.0\n",
              "2021-01-11    0.0\n",
              "2021-01-18    0.0\n",
              "Freq: W-MON, dtype: float64"
            ]
          },
          "metadata": {},
          "execution_count": 26
        }
      ]
    },
    {
      "cell_type": "code",
      "metadata": {
        "id": "wVmnfVQfaVOK"
      },
      "source": [
        "# testing cross validation on my custom naive estimator\n",
        "from sklearn.model_selection import TimeSeriesSplit\n",
        "from sklearn.model_selection import cross_validate, cross_val_score\n",
        "tscv = TimeSeriesSplit(n_splits=5, test_size = 3)"
      ],
      "execution_count": 27,
      "outputs": []
    },
    {
      "cell_type": "code",
      "metadata": {
        "id": "nobR8Bghh3d1"
      },
      "source": [
        "naive_model = NaiveForecast(horizon = 3)"
      ],
      "execution_count": 28,
      "outputs": []
    },
    {
      "cell_type": "code",
      "metadata": {
        "colab": {
          "base_uri": "https://localhost:8080/"
        },
        "id": "S3AkDxQdr1AK",
        "outputId": "0d40a13c-0bd5-4ab7-f849-dbe92f2e5f23"
      },
      "source": [
        "%%time\n",
        "\n",
        "cv_scores = cross_val_score(mean_model, tmp_dataset.sales, tmp_dataset.sales,  cv=tscv, \n",
        "                            scoring='neg_root_mean_squared_error', n_jobs=1)"
      ],
      "execution_count": 43,
      "outputs": [
        {
          "output_type": "stream",
          "name": "stdout",
          "text": [
            "CPU times: user 14.6 ms, sys: 997 µs, total: 15.6 ms\n",
            "Wall time: 13.9 ms\n"
          ]
        }
      ]
    },
    {
      "cell_type": "code",
      "metadata": {
        "colab": {
          "base_uri": "https://localhost:8080/"
        },
        "id": "37-NePbrr3CY",
        "outputId": "c7e3ff51-8f63-4d92-915c-a58e0b6dbd20"
      },
      "source": [
        "cv_scores"
      ],
      "execution_count": 44,
      "outputs": [
        {
          "output_type": "execute_result",
          "data": {
            "text/plain": [
              "array([ -33.12894826,  -57.5522575 ,  -85.90745859, -130.98460246,\n",
              "        -86.95046548])"
            ]
          },
          "metadata": {},
          "execution_count": 44
        }
      ]
    },
    {
      "cell_type": "code",
      "metadata": {
        "colab": {
          "base_uri": "https://localhost:8080/"
        },
        "id": "8FW7ouygcyAl",
        "outputId": "5724348f-f0de-42d4-9dc9-22777808176a"
      },
      "source": [
        "%%time\n",
        "\n",
        "cv_scores = cross_val_score(naive_model, tmp_dataset.sales, tmp_dataset.sales,  cv=tscv, \n",
        "                            scoring='neg_root_mean_squared_error', n_jobs=1)"
      ],
      "execution_count": 29,
      "outputs": [
        {
          "output_type": "stream",
          "name": "stdout",
          "text": [
            "CPU times: user 12.6 ms, sys: 999 µs, total: 13.6 ms\n",
            "Wall time: 11.7 ms\n"
          ]
        }
      ]
    },
    {
      "cell_type": "code",
      "metadata": {
        "colab": {
          "base_uri": "https://localhost:8080/"
        },
        "id": "UaGWGVrtE6iz",
        "outputId": "1797e3f9-dc28-40cf-b249-5276581a6446"
      },
      "source": [
        "# multiple scoring functions\n",
        "\n",
        "%%time\n",
        "\n",
        "cv_scores = cross_validate(naive_model, tmp_dataset.sales, tmp_dataset.sales,  cv=tscv, \n",
        "                            scoring=['neg_root_mean_squared_error', 'neg_mean_squared_error'], n_jobs=1)"
      ],
      "execution_count": null,
      "outputs": [
        {
          "output_type": "stream",
          "name": "stdout",
          "text": [
            "CPU times: user 22.2 ms, sys: 0 ns, total: 22.2 ms\n",
            "Wall time: 26.3 ms\n"
          ]
        }
      ]
    },
    {
      "cell_type": "code",
      "metadata": {
        "colab": {
          "base_uri": "https://localhost:8080/"
        },
        "id": "FuPSUuWXhN_B",
        "outputId": "d55a542d-e3d5-41d8-e93c-39260eae15c3"
      },
      "source": [
        "cv_scores"
      ],
      "execution_count": null,
      "outputs": [
        {
          "output_type": "execute_result",
          "data": {
            "text/plain": [
              "{'fit_time': array([0.00107598, 0.00076962, 0.0015161 , 0.00083804, 0.00079799]),\n",
              " 'score_time': array([0.00239992, 0.00697184, 0.00336385, 0.00220847, 0.0022347 ]),\n",
              " 'test_neg_mean_squared_error': array([ -1032.33333333,   -299.66666667,  -1492.66666667,  -4085.66666667,\n",
              "        -10139.        ]),\n",
              " 'test_neg_root_mean_squared_error': array([ -32.1299445 ,  -17.3108829 ,  -38.63504454,  -63.91921985,\n",
              "        -100.69260152])}"
            ]
          },
          "metadata": {},
          "execution_count": 209
        }
      ]
    },
    {
      "cell_type": "code",
      "metadata": {
        "colab": {
          "base_uri": "https://localhost:8080/"
        },
        "id": "2BOAdBAFBnGh",
        "outputId": "6cb8287f-72fd-41aa-c6f9-7361f573bc99"
      },
      "source": [
        "[i for i in tscv.split(tmp_dataset)][0][0]"
      ],
      "execution_count": 31,
      "outputs": [
        {
          "output_type": "execute_result",
          "data": {
            "text/plain": [
              "array([ 0,  1,  2,  3,  4,  5,  6,  7,  8,  9, 10, 11, 12, 13, 14, 15, 16,\n",
              "       17, 18, 19, 20, 21, 22, 23, 24, 25, 26, 27, 28, 29, 30, 31, 32, 33,\n",
              "       34, 35, 36, 37, 38, 39, 40, 41, 42, 43, 44, 45, 46, 47, 48, 49, 50,\n",
              "       51, 52, 53, 54, 55, 56, 57, 58, 59, 60, 61, 62, 63, 64, 65, 66, 67,\n",
              "       68, 69, 70, 71, 72, 73, 74, 75, 76, 77, 78])"
            ]
          },
          "metadata": {},
          "execution_count": 31
        }
      ]
    },
    {
      "cell_type": "code",
      "metadata": {
        "colab": {
          "base_uri": "https://localhost:8080/"
        },
        "id": "defrqJ7ACr6k",
        "outputId": "356940f9-006d-4659-e418-020464797582"
      },
      "source": [
        "naive_model.fit(tmp_dataset.sales[[i for i in tscv.split(tmp_dataset)][0][0]])"
      ],
      "execution_count": 32,
      "outputs": [
        {
          "output_type": "execute_result",
          "data": {
            "text/plain": [
              "NaiveForecast(horizon=3)"
            ]
          },
          "metadata": {},
          "execution_count": 32
        }
      ]
    },
    {
      "cell_type": "code",
      "metadata": {
        "colab": {
          "base_uri": "https://localhost:8080/"
        },
        "id": "LwHG31xADYzU",
        "outputId": "f7dd2ae0-6611-4de3-b88b-cae13848e174"
      },
      "source": [
        "tmp_dataset.sales[[i for i in tscv.split(tmp_dataset)][0][0]]"
      ],
      "execution_count": 33,
      "outputs": [
        {
          "output_type": "execute_result",
          "data": {
            "text/plain": [
              "DateTime\n",
              "2019-03-18      8.0\n",
              "2019-03-25      0.0\n",
              "2019-04-01     28.0\n",
              "2019-04-08    105.0\n",
              "2019-04-15     18.0\n",
              "              ...  \n",
              "2020-08-17      0.0\n",
              "2020-08-24     17.0\n",
              "2020-08-31     53.0\n",
              "2020-09-07     36.0\n",
              "2020-09-14     61.0\n",
              "Name: sales, Length: 79, dtype: float64"
            ]
          },
          "metadata": {},
          "execution_count": 33
        }
      ]
    },
    {
      "cell_type": "code",
      "metadata": {
        "colab": {
          "base_uri": "https://localhost:8080/"
        },
        "id": "_r9QNBChDnjz",
        "outputId": "7a231f98-51eb-43fc-91f6-a87941ce5a84"
      },
      "source": [
        "tmp_dataset.sales[[i for i in tscv.split(tmp_dataset)][0][1]]"
      ],
      "execution_count": 34,
      "outputs": [
        {
          "output_type": "execute_result",
          "data": {
            "text/plain": [
              "DateTime\n",
              "2020-09-21    15.0\n",
              "2020-09-28    52.0\n",
              "2020-10-05    91.0\n",
              "Name: sales, dtype: float64"
            ]
          },
          "metadata": {},
          "execution_count": 34
        }
      ]
    },
    {
      "cell_type": "code",
      "metadata": {
        "colab": {
          "base_uri": "https://localhost:8080/"
        },
        "id": "r_1Eo7A3DR0U",
        "outputId": "e3fe820e-7fca-4450-d599-27c1e01271b1"
      },
      "source": [
        "naive_model.predict(tmp_dataset.sales[[i for i in tscv.split(tmp_dataset)][0][0]])"
      ],
      "execution_count": 35,
      "outputs": [
        {
          "output_type": "execute_result",
          "data": {
            "text/plain": [
              "2020-09-21    61.0\n",
              "2020-09-28    61.0\n",
              "2020-10-05    61.0\n",
              "Freq: W-MON, dtype: float64"
            ]
          },
          "metadata": {},
          "execution_count": 35
        }
      ]
    },
    {
      "cell_type": "code",
      "metadata": {
        "colab": {
          "base_uri": "https://localhost:8080/"
        },
        "id": "rUfsqBshDQX8",
        "outputId": "72bfcf66-8a9e-45fd-bd01-a64ca8790f3e"
      },
      "source": [
        "from sklearn.metrics import mean_squared_error\n",
        "\n",
        "mean_squared_error(y_true = tmp_dataset.sales[[i for i in tscv.split(tmp_dataset)][0][1]]\n",
        "                         , y_pred = naive_model.predict(tmp_dataset.sales[[i for i in tscv.split(tmp_dataset)][0][0]])\n",
        "                         , squared=False)"
      ],
      "execution_count": 36,
      "outputs": [
        {
          "output_type": "execute_result",
          "data": {
            "text/plain": [
              "32.129944496269104"
            ]
          },
          "metadata": {},
          "execution_count": 36
        }
      ]
    },
    {
      "cell_type": "code",
      "metadata": {
        "colab": {
          "base_uri": "https://localhost:8080/"
        },
        "id": "8ddTHTplC89l",
        "outputId": "8717f50d-0749-4beb-830d-8e77051fe1f0"
      },
      "source": [
        "naive_model.prediction_"
      ],
      "execution_count": 37,
      "outputs": [
        {
          "output_type": "execute_result",
          "data": {
            "text/plain": [
              "61.0"
            ]
          },
          "metadata": {},
          "execution_count": 37
        }
      ]
    },
    {
      "cell_type": "code",
      "metadata": {
        "id": "AhxMUq4Rn2-N",
        "colab": {
          "base_uri": "https://localhost:8080/",
          "height": 132
        },
        "outputId": "b6d22c15-80fe-47b7-e8a0-5e30682d3306"
      },
      "source": [
        "# tscv = TimeSeriesSplit(n_splits=5, test_size = 3)\n",
        "#     for tr_index, val_index in tscv.split(tmp_dataset):\n",
        "#       print (tr_index, val_index)\n",
        "#       X_tr, X_val = tmp_dataset[[\"sales\"]].iloc[tr_index], tmp_dataset[[\"sales\"]].iloc[val_index]\n",
        "#       print(X_tr)\n",
        "#       print(X_val)\n",
        "#       forecast = get_naive_forecast(X_tr.sales, horizon = 3)\n",
        "#       print(forecast)\n",
        "#       print(mean_absolute_percentage_error(X_val.sales, forecast))"
      ],
      "execution_count": 38,
      "outputs": [
        {
          "output_type": "error",
          "ename": "IndentationError",
          "evalue": "ignored",
          "traceback": [
            "\u001b[0;36m  File \u001b[0;32m\"<ipython-input-38-c29582b05301>\"\u001b[0;36m, line \u001b[0;32m2\u001b[0m\n\u001b[0;31m    for tr_index, val_index in tscv.split(tmp_dataset):\u001b[0m\n\u001b[0m    ^\u001b[0m\n\u001b[0;31mIndentationError\u001b[0m\u001b[0;31m:\u001b[0m unexpected indent\n"
          ]
        }
      ]
    },
    {
      "cell_type": "code",
      "metadata": {
        "colab": {
          "base_uri": "https://localhost:8080/"
        },
        "id": "Cimuzblq7Tsi",
        "outputId": "4156c60b-72cf-4cb3-a722-293d649bef48"
      },
      "source": [
        "[i for i in tscv.split(tmp_dataset)]"
      ],
      "execution_count": null,
      "outputs": [
        {
          "output_type": "execute_result",
          "data": {
            "text/plain": [
              "[(array([ 0,  1,  2,  3,  4,  5,  6,  7,  8,  9, 10, 11, 12, 13, 14, 15, 16,\n",
              "         17, 18, 19, 20, 21, 22, 23, 24, 25, 26, 27, 28, 29, 30, 31, 32, 33,\n",
              "         34, 35, 36, 37, 38, 39, 40, 41, 42, 43, 44, 45, 46, 47, 48, 49, 50,\n",
              "         51, 52, 53, 54, 55, 56, 57, 58, 59, 60, 61, 62, 63, 64, 65, 66, 67,\n",
              "         68, 69, 70, 71, 72, 73, 74, 75, 76, 77, 78]), array([79, 80, 81])),\n",
              " (array([ 0,  1,  2,  3,  4,  5,  6,  7,  8,  9, 10, 11, 12, 13, 14, 15, 16,\n",
              "         17, 18, 19, 20, 21, 22, 23, 24, 25, 26, 27, 28, 29, 30, 31, 32, 33,\n",
              "         34, 35, 36, 37, 38, 39, 40, 41, 42, 43, 44, 45, 46, 47, 48, 49, 50,\n",
              "         51, 52, 53, 54, 55, 56, 57, 58, 59, 60, 61, 62, 63, 64, 65, 66, 67,\n",
              "         68, 69, 70, 71, 72, 73, 74, 75, 76, 77, 78, 79, 80, 81]),\n",
              "  array([82, 83, 84])),\n",
              " (array([ 0,  1,  2,  3,  4,  5,  6,  7,  8,  9, 10, 11, 12, 13, 14, 15, 16,\n",
              "         17, 18, 19, 20, 21, 22, 23, 24, 25, 26, 27, 28, 29, 30, 31, 32, 33,\n",
              "         34, 35, 36, 37, 38, 39, 40, 41, 42, 43, 44, 45, 46, 47, 48, 49, 50,\n",
              "         51, 52, 53, 54, 55, 56, 57, 58, 59, 60, 61, 62, 63, 64, 65, 66, 67,\n",
              "         68, 69, 70, 71, 72, 73, 74, 75, 76, 77, 78, 79, 80, 81, 82, 83, 84]),\n",
              "  array([85, 86, 87])),\n",
              " (array([ 0,  1,  2,  3,  4,  5,  6,  7,  8,  9, 10, 11, 12, 13, 14, 15, 16,\n",
              "         17, 18, 19, 20, 21, 22, 23, 24, 25, 26, 27, 28, 29, 30, 31, 32, 33,\n",
              "         34, 35, 36, 37, 38, 39, 40, 41, 42, 43, 44, 45, 46, 47, 48, 49, 50,\n",
              "         51, 52, 53, 54, 55, 56, 57, 58, 59, 60, 61, 62, 63, 64, 65, 66, 67,\n",
              "         68, 69, 70, 71, 72, 73, 74, 75, 76, 77, 78, 79, 80, 81, 82, 83, 84,\n",
              "         85, 86, 87]), array([88, 89, 90])),\n",
              " (array([ 0,  1,  2,  3,  4,  5,  6,  7,  8,  9, 10, 11, 12, 13, 14, 15, 16,\n",
              "         17, 18, 19, 20, 21, 22, 23, 24, 25, 26, 27, 28, 29, 30, 31, 32, 33,\n",
              "         34, 35, 36, 37, 38, 39, 40, 41, 42, 43, 44, 45, 46, 47, 48, 49, 50,\n",
              "         51, 52, 53, 54, 55, 56, 57, 58, 59, 60, 61, 62, 63, 64, 65, 66, 67,\n",
              "         68, 69, 70, 71, 72, 73, 74, 75, 76, 77, 78, 79, 80, 81, 82, 83, 84,\n",
              "         85, 86, 87, 88, 89, 90]), array([91, 92, 93]))]"
            ]
          },
          "metadata": {},
          "execution_count": 159
        }
      ]
    },
    {
      "cell_type": "code",
      "metadata": {
        "id": "QFOJa8brAgDG"
      },
      "source": [
        "data = np.array([40, 20]*100)\n",
        "ser = pd.Series(data, index = pd.date_range(start = \"2020-01-01\", periods = 200, freq ='W-Mon'))"
      ],
      "execution_count": 56,
      "outputs": []
    },
    {
      "cell_type": "code",
      "metadata": {
        "id": "4bTI7rMHwmnO"
      },
      "source": [
        "naive_test_model = NaiveForecast(horizon = 3, time_freq=\"W-MON\")"
      ],
      "execution_count": 59,
      "outputs": []
    },
    {
      "cell_type": "code",
      "metadata": {
        "colab": {
          "base_uri": "https://localhost:8080/"
        },
        "id": "UDHwkv4jw-4x",
        "outputId": "caf17dcc-e615-4a3f-d74f-1ef7166806fc"
      },
      "source": [
        "mean_squared_error(ser[-3:], naive_test_model.fit(ser[:-3]).predict(ser[-3:]), squared = False)"
      ],
      "execution_count": 64,
      "outputs": [
        {
          "output_type": "execute_result",
          "data": {
            "text/plain": [
              "16.32993161855452"
            ]
          },
          "metadata": {},
          "execution_count": 64
        }
      ]
    },
    {
      "cell_type": "code",
      "metadata": {
        "id": "ZuwAELkDxJU6"
      },
      "source": [
        "# simple unit tests\n",
        "\n",
        "from unittest import TestCase"
      ],
      "execution_count": 65,
      "outputs": []
    },
    {
      "cell_type": "code",
      "metadata": {
        "id": "EpFNF9A8ygqS"
      },
      "source": [
        ""
      ],
      "execution_count": null,
      "outputs": []
    }
  ]
}